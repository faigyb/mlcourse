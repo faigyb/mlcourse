{
  "cells": [
    {
      "cell_type": "markdown",
      "id": "nervous-subscriber",
      "metadata": {
        "id": "nervous-subscriber"
      },
      "source": [
        "# Performing K-Means clustering on Fish Market dataset with K = 7 (No. of fish species). Normalize dataset before clustering. Scikit Learn is used for clustering. Collecting the best possible  combination and assignment in clusters and performance comparison with the true class labels (Species)? Describing results.\n",
        "\n",
        "# Reading data and displaying, As in K-means clustering we do not provide labels (unsupervised) we may not to convert our  data in train and test"
      ]
    },
    {
      "cell_type": "code",
      "source": [
        "!git clone https://github.com/faigyb/mlcourse mlcourse"
      ],
      "metadata": {
        "id": "fb3aeFEWIPkB",
        "outputId": "e90a0aed-f7af-42c6-fd02-d97d430d8bc3",
        "colab": {
          "base_uri": "https://localhost:8080/"
        }
      },
      "id": "fb3aeFEWIPkB",
      "execution_count": 3,
      "outputs": [
        {
          "output_type": "stream",
          "name": "stdout",
          "text": [
            "fatal: destination path 'mlcourse' already exists and is not an empty directory.\n"
          ]
        }
      ]
    },
    {
      "cell_type": "code",
      "execution_count": 4,
      "id": "marine-argument",
      "metadata": {
        "id": "marine-argument"
      },
      "outputs": [],
      "source": [
        "from sklearn.cluster import KMeans\n",
        "from sklearn import preprocessing\n",
        "import matplotlib.pyplot as plt\n",
        "import os\n",
        "import pandas as pd\n",
        "import numpy as np"
      ]
    },
    {
      "cell_type": "code",
      "execution_count": 31,
      "id": "civilian-guarantee",
      "metadata": {
        "id": "civilian-guarantee",
        "outputId": "f1c851c1-f397-4da6-b24a-872cd3938714",
        "colab": {
          "base_uri": "https://localhost:8080/"
        }
      },
      "outputs": [
        {
          "output_type": "stream",
          "name": "stdout",
          "text": [
            "    Species  Weight  Length1  Length2  Length3   Height   Width\n",
            "10    Bream   475.0     28.4     31.0     36.2  14.2628  5.1042\n",
            "98    Perch   188.0     22.6     24.6     26.2   6.7334  4.1658\n",
            "24    Bream   700.0     31.9     35.0     40.5  16.2405  5.5890\n",
            "65   Parkki   150.0     18.4     20.0     22.4   8.8928  3.2928\n",
            "27    Bream   714.0     32.7     36.0     41.5  16.5170  5.8515\n",
            "71   Parkki   300.0     24.0     26.0     29.0  11.3680  4.2340\n",
            "96    Perch   225.0     22.0     24.0     25.5   7.2930  3.7230\n",
            "72    Perch     5.9      7.5      8.4      8.8   2.1120  1.4080\n",
            "132    Pike   430.0     35.5     38.0     40.5   7.2900  4.5765\n",
            "95    Perch   170.0     21.5     23.5     25.0   6.2750  3.7250\n",
            "[-1.5666989  -1.21854359 -0.87038828 -0.52223297 -0.17407766  0.17407766\n",
            "  0.52223297  0.87038828  1.21854359  1.5666989 ]\n"
          ]
        }
      ],
      "source": [
        "current_path2 = os.getcwd()#% Finding current directory of the notebook\n",
        "current_path2 =os.path.join(current_path2,'./mlcourse/Fish.csv') # Adding file name at the end of the address\n",
        "data2 = pd.read_csv(current_path2)# reading csv file given on current_path\n",
        "fish2 = data2.copy()\n",
        "print(fish2.sample(10))#Displaying 10 random samples from dataset\n",
        "\n",
        "\n",
        "xtrain2 =fish2.copy()\n",
        "\n",
        "xtrain2.drop(['Species'],axis=1,inplace=True) #Removing Species Column\n",
        "ytrain2 = fish2['Species']\n",
        "X_scaled = preprocessing.scale(xtrain2) # scaling so that mean =0 variance =1\n",
        "kmeans = KMeans(n_clusters=7, random_state=0).fit(X_scaled) # make 7 clusters and fit on normalized data"
      ]
    },
    {
      "cell_type": "code",
      "execution_count": 9,
      "id": "hungry-softball",
      "metadata": {
        "id": "hungry-softball"
      },
      "outputs": [],
      "source": [
        "clusters= kmeans.predict(X_scaled) # Find the class of particular sample it belongs to"
      ]
    },
    {
      "cell_type": "code",
      "execution_count": 32,
      "id": "demonstrated-confidentiality",
      "metadata": {
        "id": "demonstrated-confidentiality",
        "outputId": "eb7fbe66-2739-4e80-9c20-27318ac8ae18",
        "colab": {
          "base_uri": "https://localhost:8080/"
        }
      },
      "outputs": [
        {
          "output_type": "execute_result",
          "data": {
            "text/plain": [
              "array([0, 0, 0, 0, 0, 0, 0, 0, 0, 0, 0, 0, 0, 0, 0, 0, 0, 0, 0, 0, 0, 0,\n",
              "       0, 0, 0, 0, 0, 0, 0, 0, 0, 0, 0, 0, 0, 1, 1, 1, 1, 1, 1, 1, 1, 1,\n",
              "       1, 1, 1, 1, 1, 1, 1, 1, 1, 1, 1, 2, 2, 2, 2, 2, 2, 3, 3, 3, 3, 3,\n",
              "       3, 3, 3, 3, 3, 3, 4, 4, 4, 4, 4, 4, 4, 4, 4, 4, 4, 4, 4, 4, 4, 4,\n",
              "       4, 4, 4, 4, 4, 4, 4, 4, 4, 4, 4, 4, 4, 4, 4, 4, 4, 4, 4, 4, 4, 4,\n",
              "       4, 4, 4, 4, 4, 4, 4, 4, 4, 4, 4, 4, 4, 4, 4, 4, 4, 4, 5, 5, 5, 5,\n",
              "       5, 5, 5, 5, 5, 5, 5, 5, 5, 5, 5, 5, 5, 6, 6, 6, 6, 6, 6, 6, 6, 6,\n",
              "       6, 6, 6, 6, 6])"
            ]
          },
          "metadata": {},
          "execution_count": 32
        }
      ],
      "source": [
        "#Ground truth label encoding \n",
        "y = [];\n",
        "Species = {'Bream':0,'Roach':1, 'Whitefish':2, 'Parkki':3 , 'Perch' : 4 , 'Pike':5 , 'Smelt':6 }\n",
        "for Specie in ytrain2:\n",
        "    y.append(Species[Specie])\n",
        "y=np.asarray(y) \n",
        "y"
      ]
    },
    {
      "cell_type": "code",
      "execution_count": 37,
      "id": "later-calibration",
      "metadata": {
        "id": "later-calibration",
        "outputId": "be70c807-a35e-47cb-d921-cb2a7b19e415",
        "colab": {
          "base_uri": "https://localhost:8080/"
        }
      },
      "outputs": [
        {
          "output_type": "stream",
          "name": "stdout",
          "text": [
            "[0 0 0 0 4 4 4 4 4 4 4 4 4 4 4 4 4 4 4 4 4 4 4 4 4 4 4 4 2 2 2 2 2 2 2 3 1\n",
            " 1 1 1 1 1 1 1 1 1 1 1 1 1 1 0 0 0 0 0 0 0 4 2 2 3 3 1 1 1 1 1 1 0 0 0 3 3\n",
            " 3 3 1 1 1 1 1 1 1 1 1 1 1 1 1 1 1 1 1 1 1 1 1 1 1 1 0 0 0 0 0 0 0 0 0 4 4\n",
            " 2 4 4 4 4 2 4 2 2 2 2 2 2 2 2 2 2 0 6 6 6 6 6 6 6 6 6 6 6 5 5 5 5 5 3 3 3\n",
            " 3 3 3 3 3 3 3 3 3 3 3]\n",
            "[4 4 4 4 0 0 0 0 0 0 0 0 0 0 0 0 0 0 0 0 0 0 0 0 0 0 0 0 4 4 4 4 4 4 4 6 4\n",
            " 4 4 4 4 4 4 4 4 4 4 4 4 4 4 4 4 4 4 4 4 4 0 4 4 6 6 4 4 4 4 4 4 4 4 4 6 6\n",
            " 6 6 4 4 4 4 4 4 4 4 4 4 4 4 4 4 4 4 4 4 4 4 4 4 4 4 4 4 4 4 4 4 4 4 4 0 0\n",
            " 4 0 0 0 0 4 0 4 4 4 4 4 4 4 4 4 4 4 5 5 5 5 5 5 5 5 5 5 5 5 5 5 5 5 6 6 6\n",
            " 6 6 6 6 6 6 6 6 6 6 6]\n"
          ]
        }
      ],
      "source": [
        "# Swaping true label as per clusters \n",
        "\n",
        "from scipy.stats import mode\n",
        "k_label = np.zeros_like(clusters)\n",
        "\n",
        "for i in range(7):\n",
        "    tempmask = (clusters == i) # return true and false with true where cluster is equal to i-th label\n",
        "    k_label[tempmask] = mode(y[tempmask])[0] # It will return value which is the most occuring in \n",
        "                                            # the given array \n",
        "print(k_label)"
      ]
    },
    {
      "cell_type": "markdown",
      "id": "victorian-currency",
      "metadata": {
        "id": "victorian-currency"
      },
      "source": [
        "# It can be seen from the below two arrays that the above process is just swapping clusters class labels to get the maximum accuracy\n"
      ]
    },
    {
      "cell_type": "code",
      "execution_count": null,
      "id": "boring-heart",
      "metadata": {
        "id": "boring-heart",
        "outputId": "6883bac5-8282-46ba-8d1b-c6e2300fdfe3",
        "colab": {
          "base_uri": "https://localhost:8080/"
        }
      },
      "outputs": [
        {
          "output_type": "stream",
          "name": "stdout",
          "text": [
            "[0 0 0 0 4 4 4 4 4 4 4 4 4 4 4 4 4 4 4 4 4 4 4 4 4 4 4 4 2 2 2 2 2 2 2 3 1\n",
            " 1 1 1 1 1 1 1 1 1 1 1 1 1 1 0 0 0 0 0 0 0 4 2 2 3 3 1 1 1 1 1 1 0 0 0 3 3\n",
            " 3 3 1 1 1 1 1 1 1 1 1 1 1 1 1 1 1 1 1 1 1 1 1 1 1 1 0 0 0 0 0 0 0 0 0 4 4\n",
            " 2 4 4 4 4 2 4 2 2 2 2 2 2 2 2 2 2 0 6 6 6 6 6 6 6 6 6 6 6 5 5 5 5 5 3 3 3\n",
            " 3 3 3 3 3 3 3 3 3 3 3]\n"
          ]
        }
      ],
      "source": [
        "print(clusters)"
      ]
    },
    {
      "cell_type": "code",
      "execution_count": null,
      "id": "affecting-miracle",
      "metadata": {
        "id": "affecting-miracle",
        "outputId": "467a3d15-0a87-491f-c9c6-e76fd6ff4032",
        "colab": {
          "base_uri": "https://localhost:8080/"
        }
      },
      "outputs": [
        {
          "output_type": "stream",
          "name": "stdout",
          "text": [
            "[4 4 4 4 0 0 0 0 0 0 0 0 0 0 0 0 0 0 0 0 0 0 0 0 0 0 0 0 4 4 4 4 4 4 4 6 4\n",
            " 4 4 4 4 4 4 4 4 4 4 4 4 4 4 4 4 4 4 4 4 4 0 4 4 6 6 4 4 4 4 4 4 4 4 4 6 6\n",
            " 6 6 4 4 4 4 4 4 4 4 4 4 4 4 4 4 4 4 4 4 4 4 4 4 4 4 4 4 4 4 4 4 4 4 4 0 0\n",
            " 4 0 0 0 0 4 0 4 4 4 4 4 4 4 4 4 4 4 5 5 5 5 5 5 5 5 5 5 5 5 5 5 5 5 6 6 6\n",
            " 6 6 6 6 6 6 6 6 6 6 6]\n"
          ]
        }
      ],
      "source": [
        "print(k_label)"
      ]
    },
    {
      "cell_type": "markdown",
      "id": "christian-archives",
      "metadata": {
        "id": "christian-archives"
      },
      "source": [
        "# How well do the clusters that you obtained in K-means clustering compare to the true class labels (Species)?"
      ]
    },
    {
      "cell_type": "code",
      "execution_count": 38,
      "id": "willing-possession",
      "metadata": {
        "id": "willing-possession",
        "outputId": "5aa56bfa-90a7-4270-8d04-4f7e2427a322",
        "colab": {
          "base_uri": "https://localhost:8080/"
        }
      },
      "outputs": [
        {
          "output_type": "stream",
          "name": "stdout",
          "text": [
            "0.6226415094339622\n"
          ]
        }
      ],
      "source": [
        "from sklearn.metrics import accuracy_score\n",
        "print(accuracy_score(y, k_label))"
      ]
    },
    {
      "cell_type": "code",
      "execution_count": 39,
      "id": "social-czech",
      "metadata": {
        "id": "social-czech",
        "outputId": "07164591-2162-4041-b6f7-1fc11157b8e3",
        "colab": {
          "base_uri": "https://localhost:8080/",
          "height": 327
        }
      },
      "outputs": [
        {
          "output_type": "display_data",
          "data": {
            "text/plain": [
              "<Figure size 432x288 with 1 Axes>"
            ],
            "image/png": "[encoded data removed]"
          },
          "metadata": {}
        }
      ],
      "source": [
        "from sklearn.metrics import confusion_matrix\n",
        "import seaborn as sns; sns.set()\n",
        "mat = confusion_matrix(y, k_label)\n",
        "sns.heatmap(mat.T, square=True, annot=True, fmt='d', cbar=False,\n",
        "            xticklabels=Species,\n",
        "            yticklabels=Species)\n",
        "plt.xlabel('true label')\n",
        "plt.ylabel('predicted label');"
      ]
    },
    {
      "cell_type": "code",
      "source": [
        "inertias=[]\n",
        "for i in range(1,20):\n",
        "  kmeans = KMeans(n_clusters=i, random_state=0).fit(X_scaled) # make 7 clusters and fit on normalized data\n",
        "  inertias.append(kmeans.inertia_)\n",
        "\n",
        "inertias\n",
        "plt.plot([1,2,3,4,5,6,7,8,9,10,11,12,13,14,15,16,17,18,19],inertias, color ='blue')\n",
        "plt.xlabel('clusters')\n",
        "plt.ylabel('SSE')\n",
        "plt.show()\n",
        "#will take 12 clusters "
      ],
      "metadata": {
        "id": "P8DM0mPIG3K3",
        "outputId": "e6b65c6e-0f8c-4bc6-8909-0597d8385c02",
        "colab": {
          "base_uri": "https://localhost:8080/",
          "height": 289
        }
      },
      "id": "P8DM0mPIG3K3",
      "execution_count": 41,
      "outputs": [
        {
          "output_type": "display_data",
          "data": {
            "text/plain": [
              "<Figure size 432x288 with 1 Axes>"
            ],
            "image/png": "[encoded data removed]"
          },
          "metadata": {}
        }
      ]
    },
    {
      "cell_type": "markdown",
      "id": "adult-minutes",
      "metadata": {
        "id": "adult-minutes"
      },
      "source": [
        "# Describing Results\n",
        "\n",
        "The dataset is highly imbalnced, there are only $6$ examples for the specie of \"Whitefish\". For the first class, Bream, there are $35$ samples in total out of which $25$ are classified as Bream and rest of them are classfied as Perch. \n",
        "The maximum error in classification is in case of Roach, Whitefish, and Parkki. Most of them are classified as perch. The possible reason of this failure is data distribution. More than one third of the dataset is consist of Perch, a possible reason of failure in classifying the other classes with small number of samples. The other reason of this miscalssifcation can be the close resembalnce of features in between Perch and rest of the three classes.\n",
        "\n",
        "For Pike and Smelt even thoguh we don't have many sampels the results are promising indicating that features describing these two species are more discrete when compared to other fish species. \n",
        "\n"
      ]
    }
  ],
  "metadata": {
    "kernelspec": {
      "display_name": "Python 3",
      "language": "python",
      "name": "python3"
    },
    "language_info": {
      "codemirror_mode": {
        "name": "ipython",
        "version": 3
      },
      "file_extension": ".py",
      "mimetype": "text/x-python",
      "name": "python",
      "nbconvert_exporter": "python",
      "pygments_lexer": "ipython3",
      "version": "3.6.12"
    },
    "colab": {
      "name": "K-means clustering.ipynb",
      "provenance": []
    }
  },
  "nbformat": 4,
  "nbformat_minor": 5
}